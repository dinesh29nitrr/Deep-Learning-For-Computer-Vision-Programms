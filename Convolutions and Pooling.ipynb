{
 "cells": [
  {
   "cell_type": "markdown",
   "metadata": {},
   "source": [
    "## How to Use Different Color Channel Ordering Format"
   ]
  },
  {
   "cell_type": "markdown",
   "metadata": {},
   "source": [
    "### Manipulating Image Channel"
   ]
  },
  {
   "cell_type": "code",
   "execution_count": 13,
   "metadata": {},
   "outputs": [
    {
     "name": "stdout",
     "output_type": "stream",
     "text": [
      "(424, 640)\n",
      "(1, 424, 640)\n",
      "(424, 640, 1)\n"
     ]
    }
   ],
   "source": [
    "##How to Add a Channel to a Grayscale Image\n",
    "from numpy import expand_dims\n",
    "from numpy import asarray\n",
    "from PIL import Image\n",
    "\n",
    "#Load Image\n",
    "img = Image.open('penguin_arade.jpg')\n",
    "#convert the image to grayscale\n",
    "img = img.convert(mode='L')\n",
    "#convert to numpy array\n",
    "data = asarray(img)\n",
    "print(data.shape)\n",
    "#add channel first\n",
    "data_first = expand_dims(data,axis=0)\n",
    "print(data_first.shape)\n",
    "#add channel last\n",
    "data_last = expand_dims(data,axis=2)\n",
    "print(data_last.shape)"
   ]
  },
  {
   "cell_type": "code",
   "execution_count": 8,
   "metadata": {},
   "outputs": [
    {
     "name": "stdout",
     "output_type": "stream",
     "text": [
      "(424, 640)\n",
      "(424, 640, 1)\n",
      "(1, 424, 640)\n"
     ]
    }
   ],
   "source": [
    "#Reshape method\n",
    "##How to Add a Channel to a Grayscale Image\n",
    "from numpy import expand_dims\n",
    "from numpy import asarray\n",
    "from PIL import Image\n",
    "\n",
    "#Load Image\n",
    "img = Image.open('penguin_arade.jpg')\n",
    "#convert the image to grayscale\n",
    "img = img.convert(mode='L')\n",
    "#convert to numpy array\n",
    "data = asarray(img)\n",
    "print(data.shape)\n",
    "#add a channel dimension\n",
    "data_last = data.reshape((424,640,1))\n",
    "print(data_last.shape)\n",
    "data_first = data.reshape((1,424,640))\n",
    "print(data_first.shape)"
   ]
  },
  {
   "cell_type": "code",
   "execution_count": 15,
   "metadata": {},
   "outputs": [
    {
     "name": "stdout",
     "output_type": "stream",
     "text": [
      "(424, 640, 3)\n",
      "(3, 424, 640)\n",
      "(424, 640, 3)\n"
     ]
    }
   ],
   "source": [
    "#How to Change Image Channel  Ordering\n",
    "from numpy import moveaxis\n",
    "from numpy import asarray\n",
    "from PIL import Image\n",
    "\n",
    "#Load Image\n",
    "img = Image.open('penguin_arade.jpg')\n",
    "\n",
    "#convert to numpy array\n",
    "data = asarray(img)\n",
    "print(data.shape)\n",
    "#Change channels last to channel first format\n",
    "data = moveaxis(data,2,0)\n",
    "print(data.shape)\n",
    "#Change channels fist to channels last format\n",
    "data = moveaxis(data,0,2)\n",
    "print(data.shape)"
   ]
  },
  {
   "cell_type": "markdown",
   "metadata": {},
   "source": [
    "### Keras Channel Ordering"
   ]
  },
  {
   "cell_type": "code",
   "execution_count": 16,
   "metadata": {},
   "outputs": [
    {
     "data": {
      "text/plain": [
       "{'image_data_format': 'channels_last',\n",
       " 'backend': 'tensorflow',\n",
       " 'epsilon': 1e-07,\n",
       " 'floatx': 'float32'}"
      ]
     },
     "execution_count": 16,
     "metadata": {},
     "output_type": "execute_result"
    }
   ],
   "source": [
    "#Default Channel Ordering\n",
    "{\n",
    "    \"image_data_format\": \"channels_last\",\n",
    "    \"backend\": \"tensorflow\",\n",
    "    \"epsilon\": 1e-07,\n",
    "    \"floatx\": \"float32\"\n",
    "}\n"
   ]
  },
  {
   "cell_type": "code",
   "execution_count": null,
   "metadata": {},
   "outputs": [],
   "source": [
    "##Model-Specific Channel Ordering\n",
    "model.add(Conv2D(..., data_format='channels_first'))"
   ]
  },
  {
   "cell_type": "code",
   "execution_count": null,
   "metadata": {},
   "outputs": [],
   "source": [
    "##Query Channel Ordering\n",
    "# show preferred channel order\n",
    "from keras import backend\n",
    "print(backend.image_data_format())"
   ]
  },
  {
   "cell_type": "code",
   "execution_count": 18,
   "metadata": {},
   "outputs": [
    {
     "name": "stderr",
     "output_type": "stream",
     "text": [
      "Using TensorFlow backend.\n"
     ]
    },
    {
     "name": "stdout",
     "output_type": "stream",
     "text": [
      "channels_first\n",
      "channels_last\n"
     ]
    }
   ],
   "source": [
    "# force a channel ordering\n",
    "from keras import backend\n",
    "# force channels-first ordering\n",
    "backend.set_image_data_format('channels_first')\n",
    "print(backend.image_data_format())\n",
    "# force channels-last ordering\n",
    "backend.set_image_data_format('channels_last')\n",
    "print(backend.image_data_format())"
   ]
  },
  {
   "cell_type": "code",
   "execution_count": null,
   "metadata": {},
   "outputs": [],
   "source": []
  }
 ],
 "metadata": {
  "kernelspec": {
   "display_name": "Python 3",
   "language": "python",
   "name": "python3"
  },
  "language_info": {
   "codemirror_mode": {
    "name": "ipython",
    "version": 3
   },
   "file_extension": ".py",
   "mimetype": "text/x-python",
   "name": "python",
   "nbconvert_exporter": "python",
   "pygments_lexer": "ipython3",
   "version": "3.7.4"
  }
 },
 "nbformat": 4,
 "nbformat_minor": 2
}
